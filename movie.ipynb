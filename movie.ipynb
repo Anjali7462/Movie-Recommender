{
 "cells": [
  {
   "cell_type": "code",
   "execution_count": 1,
   "id": "initial_id",
   "metadata": {
    "ExecuteTime": {
     "end_time": "2024-11-20T09:16:24.183084Z",
     "start_time": "2024-11-20T09:16:22.537207Z"
    },
    "collapsed": true
   },
   "outputs": [],
   "source": [
    "import ast\n",
    "import nltk\n",
    "import pickle\n",
    "import warnings\n",
    "import numpy as np\n",
    "import pandas as pd\n",
    "import seaborn as sns\n",
    "import matplotlib.pyplot as plt\n",
    "from nltk.stem.porter import PorterStemmer\n",
    "from sklearn.metrics.pairwise import cosine_similarity\n",
    "from sklearn.feature_extraction.text import CountVectorizer\n",
    "\n",
    "# Use a specific seaborn style in matplotlib\n",
    "# plt.style.use(\"seaborn-darkgrid\")  # Replace \"seaborn\" with a valid style name\n",
    "sns.set_style(\"darkgrid\")\n",
    "warnings.filterwarnings(\"ignore\")"
   ]
  },
  {
   "cell_type": "code",
   "execution_count": 2,
   "id": "e05afb08d3791abc",
   "metadata": {
    "ExecuteTime": {
     "end_time": "2024-11-20T09:16:24.619587Z",
     "start_time": "2024-11-20T09:16:24.199955Z"
    }
   },
   "outputs": [],
   "source": [
    "movies = pd.read_csv(\"/Users/anjalisingh/Documents/ML LAB/Movie Recommender/tmdb_5000_movies.csv\")\n",
    "credits = pd.read_csv(\"/Users/anjalisingh/Documents/ML LAB/Movie Recommender/tmdb_5000_credits.csv\")\n"
   ]
  },
  {
   "cell_type": "code",
   "execution_count": 4,
   "id": "201dadba4b920523",
   "metadata": {
    "ExecuteTime": {
     "end_time": "2024-11-20T09:16:24.651740Z",
     "start_time": "2024-11-20T09:16:24.643110Z"
    }
   },
   "outputs": [
    {
     "data": {
      "text/html": [
       "<div>\n",
       "<style scoped>\n",
       "    .dataframe tbody tr th:only-of-type {\n",
       "        vertical-align: middle;\n",
       "    }\n",
       "\n",
       "    .dataframe tbody tr th {\n",
       "        vertical-align: top;\n",
       "    }\n",
       "\n",
       "    .dataframe thead th {\n",
       "        text-align: right;\n",
       "    }\n",
       "</style>\n",
       "<table border=\"1\" class=\"dataframe\">\n",
       "  <thead>\n",
       "    <tr style=\"text-align: right;\">\n",
       "      <th></th>\n",
       "      <th>budget</th>\n",
       "      <th>genres</th>\n",
       "      <th>homepage</th>\n",
       "      <th>id</th>\n",
       "      <th>keywords</th>\n",
       "      <th>original_language</th>\n",
       "      <th>original_title</th>\n",
       "      <th>overview</th>\n",
       "      <th>popularity</th>\n",
       "      <th>production_companies</th>\n",
       "      <th>production_countries</th>\n",
       "      <th>release_date</th>\n",
       "      <th>revenue</th>\n",
       "      <th>runtime</th>\n",
       "      <th>spoken_languages</th>\n",
       "      <th>status</th>\n",
       "      <th>tagline</th>\n",
       "      <th>title</th>\n",
       "      <th>vote_average</th>\n",
       "      <th>vote_count</th>\n",
       "    </tr>\n",
       "  </thead>\n",
       "  <tbody>\n",
       "    <tr>\n",
       "      <th>0</th>\n",
       "      <td>237000000</td>\n",
       "      <td>[{\"id\": 28, \"name\": \"Action\"}, {\"id\": 12, \"nam...</td>\n",
       "      <td>http://www.avatarmovie.com/</td>\n",
       "      <td>19995</td>\n",
       "      <td>[{\"id\": 1463, \"name\": \"culture clash\"}, {\"id\":...</td>\n",
       "      <td>en</td>\n",
       "      <td>Avatar</td>\n",
       "      <td>In the 22nd century, a paraplegic Marine is di...</td>\n",
       "      <td>150.437577</td>\n",
       "      <td>[{\"name\": \"Ingenious Film Partners\", \"id\": 289...</td>\n",
       "      <td>[{\"iso_3166_1\": \"US\", \"name\": \"United States o...</td>\n",
       "      <td>2009-12-10</td>\n",
       "      <td>2787965087</td>\n",
       "      <td>162.0</td>\n",
       "      <td>[{\"iso_639_1\": \"en\", \"name\": \"English\"}, {\"iso...</td>\n",
       "      <td>Released</td>\n",
       "      <td>Enter the World of Pandora.</td>\n",
       "      <td>Avatar</td>\n",
       "      <td>7.2</td>\n",
       "      <td>11800</td>\n",
       "    </tr>\n",
       "  </tbody>\n",
       "</table>\n",
       "</div>"
      ],
      "text/plain": [
       "      budget                                             genres  \\\n",
       "0  237000000  [{\"id\": 28, \"name\": \"Action\"}, {\"id\": 12, \"nam...   \n",
       "\n",
       "                      homepage     id  \\\n",
       "0  http://www.avatarmovie.com/  19995   \n",
       "\n",
       "                                            keywords original_language  \\\n",
       "0  [{\"id\": 1463, \"name\": \"culture clash\"}, {\"id\":...                en   \n",
       "\n",
       "  original_title                                           overview  \\\n",
       "0         Avatar  In the 22nd century, a paraplegic Marine is di...   \n",
       "\n",
       "   popularity                               production_companies  \\\n",
       "0  150.437577  [{\"name\": \"Ingenious Film Partners\", \"id\": 289...   \n",
       "\n",
       "                                production_countries release_date     revenue  \\\n",
       "0  [{\"iso_3166_1\": \"US\", \"name\": \"United States o...   2009-12-10  2787965087   \n",
       "\n",
       "   runtime                                   spoken_languages    status  \\\n",
       "0    162.0  [{\"iso_639_1\": \"en\", \"name\": \"English\"}, {\"iso...  Released   \n",
       "\n",
       "                       tagline   title  vote_average  vote_count  \n",
       "0  Enter the World of Pandora.  Avatar           7.2       11800  "
      ]
     },
     "execution_count": 4,
     "metadata": {},
     "output_type": "execute_result"
    }
   ],
   "source": [
    "movies.head(1)"
   ]
  },
  {
   "cell_type": "code",
   "execution_count": 5,
   "id": "8f601a0cb2db4e6",
   "metadata": {
    "ExecuteTime": {
     "end_time": "2024-11-20T09:16:24.727103Z",
     "start_time": "2024-11-20T09:16:24.719752Z"
    }
   },
   "outputs": [
    {
     "data": {
      "text/html": [
       "<div>\n",
       "<style scoped>\n",
       "    .dataframe tbody tr th:only-of-type {\n",
       "        vertical-align: middle;\n",
       "    }\n",
       "\n",
       "    .dataframe tbody tr th {\n",
       "        vertical-align: top;\n",
       "    }\n",
       "\n",
       "    .dataframe thead th {\n",
       "        text-align: right;\n",
       "    }\n",
       "</style>\n",
       "<table border=\"1\" class=\"dataframe\">\n",
       "  <thead>\n",
       "    <tr style=\"text-align: right;\">\n",
       "      <th></th>\n",
       "      <th>movie_id</th>\n",
       "      <th>title</th>\n",
       "      <th>cast</th>\n",
       "      <th>crew</th>\n",
       "    </tr>\n",
       "  </thead>\n",
       "  <tbody>\n",
       "    <tr>\n",
       "      <th>0</th>\n",
       "      <td>19995</td>\n",
       "      <td>Avatar</td>\n",
       "      <td>[{\"cast_id\": 242, \"character\": \"Jake Sully\", \"...</td>\n",
       "      <td>[{\"credit_id\": \"52fe48009251416c750aca23\", \"de...</td>\n",
       "    </tr>\n",
       "  </tbody>\n",
       "</table>\n",
       "</div>"
      ],
      "text/plain": [
       "   movie_id   title                                               cast  \\\n",
       "0     19995  Avatar  [{\"cast_id\": 242, \"character\": \"Jake Sully\", \"...   \n",
       "\n",
       "                                                crew  \n",
       "0  [{\"credit_id\": \"52fe48009251416c750aca23\", \"de...  "
      ]
     },
     "execution_count": 5,
     "metadata": {},
     "output_type": "execute_result"
    }
   ],
   "source": [
    "credits.head(1)"
   ]
  },
  {
   "cell_type": "code",
   "execution_count": 6,
   "id": "b26632528d40109c",
   "metadata": {
    "ExecuteTime": {
     "end_time": "2024-11-20T09:16:24.814436Z",
     "start_time": "2024-11-20T09:16:24.801334Z"
    }
   },
   "outputs": [],
   "source": [
    "# Merging all the columns of movies and credits into movies, excluding title from credits since it will get repeated.\n",
    "\n",
    "movies = movies.merge(credits, on = \"title\")"
   ]
  },
  {
   "cell_type": "code",
   "execution_count": 7,
   "id": "6fe6672b207070fe",
   "metadata": {
    "ExecuteTime": {
     "end_time": "2024-11-20T09:16:24.933488Z",
     "start_time": "2024-11-20T09:16:24.925807Z"
    }
   },
   "outputs": [
    {
     "data": {
      "text/html": [
       "<div>\n",
       "<style scoped>\n",
       "    .dataframe tbody tr th:only-of-type {\n",
       "        vertical-align: middle;\n",
       "    }\n",
       "\n",
       "    .dataframe tbody tr th {\n",
       "        vertical-align: top;\n",
       "    }\n",
       "\n",
       "    .dataframe thead th {\n",
       "        text-align: right;\n",
       "    }\n",
       "</style>\n",
       "<table border=\"1\" class=\"dataframe\">\n",
       "  <thead>\n",
       "    <tr style=\"text-align: right;\">\n",
       "      <th></th>\n",
       "      <th>budget</th>\n",
       "      <th>genres</th>\n",
       "      <th>homepage</th>\n",
       "      <th>id</th>\n",
       "      <th>keywords</th>\n",
       "      <th>original_language</th>\n",
       "      <th>original_title</th>\n",
       "      <th>overview</th>\n",
       "      <th>popularity</th>\n",
       "      <th>production_companies</th>\n",
       "      <th>...</th>\n",
       "      <th>runtime</th>\n",
       "      <th>spoken_languages</th>\n",
       "      <th>status</th>\n",
       "      <th>tagline</th>\n",
       "      <th>title</th>\n",
       "      <th>vote_average</th>\n",
       "      <th>vote_count</th>\n",
       "      <th>movie_id</th>\n",
       "      <th>cast</th>\n",
       "      <th>crew</th>\n",
       "    </tr>\n",
       "  </thead>\n",
       "  <tbody>\n",
       "    <tr>\n",
       "      <th>0</th>\n",
       "      <td>237000000</td>\n",
       "      <td>[{\"id\": 28, \"name\": \"Action\"}, {\"id\": 12, \"nam...</td>\n",
       "      <td>http://www.avatarmovie.com/</td>\n",
       "      <td>19995</td>\n",
       "      <td>[{\"id\": 1463, \"name\": \"culture clash\"}, {\"id\":...</td>\n",
       "      <td>en</td>\n",
       "      <td>Avatar</td>\n",
       "      <td>In the 22nd century, a paraplegic Marine is di...</td>\n",
       "      <td>150.437577</td>\n",
       "      <td>[{\"name\": \"Ingenious Film Partners\", \"id\": 289...</td>\n",
       "      <td>...</td>\n",
       "      <td>162.0</td>\n",
       "      <td>[{\"iso_639_1\": \"en\", \"name\": \"English\"}, {\"iso...</td>\n",
       "      <td>Released</td>\n",
       "      <td>Enter the World of Pandora.</td>\n",
       "      <td>Avatar</td>\n",
       "      <td>7.2</td>\n",
       "      <td>11800</td>\n",
       "      <td>19995</td>\n",
       "      <td>[{\"cast_id\": 242, \"character\": \"Jake Sully\", \"...</td>\n",
       "      <td>[{\"credit_id\": \"52fe48009251416c750aca23\", \"de...</td>\n",
       "    </tr>\n",
       "  </tbody>\n",
       "</table>\n",
       "<p>1 rows × 23 columns</p>\n",
       "</div>"
      ],
      "text/plain": [
       "      budget                                             genres  \\\n",
       "0  237000000  [{\"id\": 28, \"name\": \"Action\"}, {\"id\": 12, \"nam...   \n",
       "\n",
       "                      homepage     id  \\\n",
       "0  http://www.avatarmovie.com/  19995   \n",
       "\n",
       "                                            keywords original_language  \\\n",
       "0  [{\"id\": 1463, \"name\": \"culture clash\"}, {\"id\":...                en   \n",
       "\n",
       "  original_title                                           overview  \\\n",
       "0         Avatar  In the 22nd century, a paraplegic Marine is di...   \n",
       "\n",
       "   popularity                               production_companies  ... runtime  \\\n",
       "0  150.437577  [{\"name\": \"Ingenious Film Partners\", \"id\": 289...  ...   162.0   \n",
       "\n",
       "                                    spoken_languages    status  \\\n",
       "0  [{\"iso_639_1\": \"en\", \"name\": \"English\"}, {\"iso...  Released   \n",
       "\n",
       "                       tagline   title vote_average vote_count movie_id  \\\n",
       "0  Enter the World of Pandora.  Avatar          7.2      11800    19995   \n",
       "\n",
       "                                                cast  \\\n",
       "0  [{\"cast_id\": 242, \"character\": \"Jake Sully\", \"...   \n",
       "\n",
       "                                                crew  \n",
       "0  [{\"credit_id\": \"52fe48009251416c750aca23\", \"de...  \n",
       "\n",
       "[1 rows x 23 columns]"
      ]
     },
     "execution_count": 7,
     "metadata": {},
     "output_type": "execute_result"
    }
   ],
   "source": [
    "movies.head(1)"
   ]
  },
  {
   "cell_type": "code",
   "execution_count": 8,
   "id": "a76bb907d087d9cd",
   "metadata": {
    "ExecuteTime": {
     "end_time": "2024-11-20T09:16:25.094918Z",
     "start_time": "2024-11-20T09:16:25.086684Z"
    }
   },
   "outputs": [],
   "source": [
    "# Picking the most relevant columns on which recommendations will be made.\n",
    "movies = movies[[\"movie_id\", \"title\", \"overview\", \"genres\", \"keywords\", \"cast\", \"crew\", \"vote_average\"]]"
   ]
  },
  {
   "cell_type": "code",
   "execution_count": 9,
   "id": "b29230169544b229",
   "metadata": {
    "ExecuteTime": {
     "end_time": "2024-11-20T09:16:25.231295Z",
     "start_time": "2024-11-20T09:16:25.227961Z"
    }
   },
   "outputs": [],
   "source": [
    "credits=movies[[\"movie_id\", \"vote_average\"]]"
   ]
  },
  {
   "cell_type": "code",
   "execution_count": 10,
   "id": "8d808f04d58f22bf",
   "metadata": {
    "ExecuteTime": {
     "end_time": "2024-11-20T09:16:25.285953Z",
     "start_time": "2024-11-20T09:16:25.277200Z"
    }
   },
   "outputs": [
    {
     "data": {
      "text/html": [
       "<div>\n",
       "<style scoped>\n",
       "    .dataframe tbody tr th:only-of-type {\n",
       "        vertical-align: middle;\n",
       "    }\n",
       "\n",
       "    .dataframe tbody tr th {\n",
       "        vertical-align: top;\n",
       "    }\n",
       "\n",
       "    .dataframe thead th {\n",
       "        text-align: right;\n",
       "    }\n",
       "</style>\n",
       "<table border=\"1\" class=\"dataframe\">\n",
       "  <thead>\n",
       "    <tr style=\"text-align: right;\">\n",
       "      <th></th>\n",
       "      <th>movie_id</th>\n",
       "      <th>vote_average</th>\n",
       "    </tr>\n",
       "  </thead>\n",
       "  <tbody>\n",
       "    <tr>\n",
       "      <th>0</th>\n",
       "      <td>19995</td>\n",
       "      <td>7.2</td>\n",
       "    </tr>\n",
       "  </tbody>\n",
       "</table>\n",
       "</div>"
      ],
      "text/plain": [
       "   movie_id  vote_average\n",
       "0     19995           7.2"
      ]
     },
     "execution_count": 10,
     "metadata": {},
     "output_type": "execute_result"
    }
   ],
   "source": [
    "credits.head(1\n",
    "             )"
   ]
  },
  {
   "cell_type": "code",
   "execution_count": 11,
   "id": "9db846c3191a1c45",
   "metadata": {
    "ExecuteTime": {
     "end_time": "2024-11-20T09:16:25.348340Z",
     "start_time": "2024-11-20T09:16:25.342975Z"
    }
   },
   "outputs": [],
   "source": [
    "movies = movies[[\"movie_id\", \"title\", \"overview\", \"genres\", \"keywords\", \"cast\", \"crew\"]]"
   ]
  },
  {
   "cell_type": "code",
   "execution_count": 12,
   "id": "761130816c178c28",
   "metadata": {
    "ExecuteTime": {
     "end_time": "2024-11-20T09:16:25.435542Z",
     "start_time": "2024-11-20T09:16:25.421954Z"
    }
   },
   "outputs": [
    {
     "data": {
      "text/html": [
       "<div>\n",
       "<style scoped>\n",
       "    .dataframe tbody tr th:only-of-type {\n",
       "        vertical-align: middle;\n",
       "    }\n",
       "\n",
       "    .dataframe tbody tr th {\n",
       "        vertical-align: top;\n",
       "    }\n",
       "\n",
       "    .dataframe thead th {\n",
       "        text-align: right;\n",
       "    }\n",
       "</style>\n",
       "<table border=\"1\" class=\"dataframe\">\n",
       "  <thead>\n",
       "    <tr style=\"text-align: right;\">\n",
       "      <th></th>\n",
       "      <th>movie_id</th>\n",
       "      <th>title</th>\n",
       "      <th>overview</th>\n",
       "      <th>genres</th>\n",
       "      <th>keywords</th>\n",
       "      <th>cast</th>\n",
       "      <th>crew</th>\n",
       "    </tr>\n",
       "  </thead>\n",
       "  <tbody>\n",
       "    <tr>\n",
       "      <th>0</th>\n",
       "      <td>19995</td>\n",
       "      <td>Avatar</td>\n",
       "      <td>In the 22nd century, a paraplegic Marine is di...</td>\n",
       "      <td>[{\"id\": 28, \"name\": \"Action\"}, {\"id\": 12, \"nam...</td>\n",
       "      <td>[{\"id\": 1463, \"name\": \"culture clash\"}, {\"id\":...</td>\n",
       "      <td>[{\"cast_id\": 242, \"character\": \"Jake Sully\", \"...</td>\n",
       "      <td>[{\"credit_id\": \"52fe48009251416c750aca23\", \"de...</td>\n",
       "    </tr>\n",
       "  </tbody>\n",
       "</table>\n",
       "</div>"
      ],
      "text/plain": [
       "   movie_id   title                                           overview  \\\n",
       "0     19995  Avatar  In the 22nd century, a paraplegic Marine is di...   \n",
       "\n",
       "                                              genres  \\\n",
       "0  [{\"id\": 28, \"name\": \"Action\"}, {\"id\": 12, \"nam...   \n",
       "\n",
       "                                            keywords  \\\n",
       "0  [{\"id\": 1463, \"name\": \"culture clash\"}, {\"id\":...   \n",
       "\n",
       "                                                cast  \\\n",
       "0  [{\"cast_id\": 242, \"character\": \"Jake Sully\", \"...   \n",
       "\n",
       "                                                crew  \n",
       "0  [{\"credit_id\": \"52fe48009251416c750aca23\", \"de...  "
      ]
     },
     "execution_count": 12,
     "metadata": {},
     "output_type": "execute_result"
    }
   ],
   "source": [
    "movies.head(1)"
   ]
  },
  {
   "cell_type": "code",
   "execution_count": 13,
   "id": "37b0910d8f913f5d",
   "metadata": {
    "ExecuteTime": {
     "end_time": "2024-11-20T09:16:25.632814Z",
     "start_time": "2024-11-20T09:16:25.624171Z"
    }
   },
   "outputs": [
    {
     "data": {
      "text/plain": [
       "movie_id    0\n",
       "title       0\n",
       "overview    3\n",
       "genres      0\n",
       "keywords    0\n",
       "cast        0\n",
       "crew        0\n",
       "dtype: int64"
      ]
     },
     "execution_count": 13,
     "metadata": {},
     "output_type": "execute_result"
    }
   ],
   "source": [
    "movies.isnull().sum()"
   ]
  },
  {
   "cell_type": "code",
   "execution_count": 14,
   "id": "7787ab7fc40bffc9",
   "metadata": {
    "ExecuteTime": {
     "end_time": "2024-11-20T09:16:25.737437Z",
     "start_time": "2024-11-20T09:16:25.727605Z"
    }
   },
   "outputs": [],
   "source": [
    "# Removing the tuples/data points with missing data.\n",
    "\n",
    "movies.dropna(inplace = True)"
   ]
  },
  {
   "cell_type": "code",
   "execution_count": 15,
   "id": "34b20e96b86900fc",
   "metadata": {
    "ExecuteTime": {
     "end_time": "2024-11-20T09:16:25.935350Z",
     "start_time": "2024-11-20T09:16:25.814722Z"
    }
   },
   "outputs": [
    {
     "data": {
      "text/plain": [
       "0"
      ]
     },
     "execution_count": 15,
     "metadata": {},
     "output_type": "execute_result"
    }
   ],
   "source": [
    "# Checking whether there is any duplicate data.\n",
    "\n",
    "movies.duplicated().sum()"
   ]
  },
  {
   "cell_type": "code",
   "execution_count": 16,
   "id": "17de7d5fb8e42445",
   "metadata": {
    "ExecuteTime": {
     "end_time": "2024-11-20T09:16:25.960403Z",
     "start_time": "2024-11-20T09:16:25.957945Z"
    }
   },
   "outputs": [],
   "source": [
    "# Extracting useful information from raw data of genres & keywords for the creation of tags.\n",
    "\n",
    "def convert1(obj):\n",
    "    List = []\n",
    "    for i in ast.literal_eval(obj):\n",
    "        List.append(i[\"name\"])\n",
    "\n",
    "    return List"
   ]
  },
  {
   "cell_type": "code",
   "execution_count": 17,
   "id": "1c30efcc34c6c01c",
   "metadata": {
    "ExecuteTime": {
     "end_time": "2024-11-20T09:16:26.086005Z",
     "start_time": "2024-11-20T09:16:25.976507Z"
    }
   },
   "outputs": [],
   "source": [
    "movies[\"genres\"] = movies[\"genres\"].apply(convert1)"
   ]
  },
  {
   "cell_type": "code",
   "execution_count": 18,
   "id": "8fdc2a7d67fbf8ed",
   "metadata": {
    "ExecuteTime": {
     "end_time": "2024-11-20T09:16:26.342693Z",
     "start_time": "2024-11-20T09:16:26.093406Z"
    }
   },
   "outputs": [],
   "source": [
    "movies[\"keywords\"] = movies[\"keywords\"].apply(convert1)"
   ]
  },
  {
   "cell_type": "code",
   "execution_count": 19,
   "id": "62173176fcc434b8",
   "metadata": {
    "ExecuteTime": {
     "end_time": "2024-11-20T09:16:26.351521Z",
     "start_time": "2024-11-20T09:16:26.349257Z"
    }
   },
   "outputs": [],
   "source": [
    "# Extracting top three actors/actresses from raw data of cast.\n",
    "\n",
    "def convert2(obj):\n",
    "    List = []\n",
    "    count = 0\n",
    "\n",
    "    for i in ast.literal_eval(obj):\n",
    "        if count < 3:\n",
    "            List.append(i[\"name\"])\n",
    "            count += 1\n",
    "        else:\n",
    "            break\n",
    "\n",
    "    return List"
   ]
  },
  {
   "cell_type": "code",
   "execution_count": 20,
   "id": "9d896ab3c1fa010",
   "metadata": {
    "ExecuteTime": {
     "end_time": "2024-11-20T09:16:28.810265Z",
     "start_time": "2024-11-20T09:16:26.358013Z"
    }
   },
   "outputs": [],
   "source": [
    "movies[\"cast\"] = movies[\"cast\"].apply(convert2)"
   ]
  },
  {
   "cell_type": "code",
   "execution_count": 21,
   "id": "93551cafe5111221",
   "metadata": {
    "ExecuteTime": {
     "end_time": "2024-11-20T09:16:28.885421Z",
     "start_time": "2024-11-20T09:16:28.876313Z"
    }
   },
   "outputs": [],
   "source": [
    "# Extracting director from raw data of crew.\n",
    "\n",
    "def fetch_director(obj):\n",
    "    List = []\n",
    "\n",
    "    for i in ast.literal_eval(obj):\n",
    "        if i[\"job\"] == \"Director\":\n",
    "            List.append(i[\"name\"])\n",
    "            break\n",
    "\n",
    "    return List"
   ]
  },
  {
   "cell_type": "code",
   "execution_count": 22,
   "id": "66e34c582334ded4",
   "metadata": {
    "ExecuteTime": {
     "end_time": "2024-11-20T09:16:31.993922Z",
     "start_time": "2024-11-20T09:16:28.921653Z"
    }
   },
   "outputs": [],
   "source": [
    "movies[\"crew\"] = movies[\"crew\"].apply(fetch_director)"
   ]
  },
  {
   "cell_type": "code",
   "execution_count": 23,
   "id": "204484bfcbb71d5d",
   "metadata": {
    "ExecuteTime": {
     "end_time": "2024-11-20T09:16:32.074862Z",
     "start_time": "2024-11-20T09:16:32.012966Z"
    }
   },
   "outputs": [],
   "source": [
    "# Converting string into a list of elements.\n",
    "\n",
    "movies[\"overview\"] = movies[\"overview\"].apply(lambda x : x.split())"
   ]
  },
  {
   "cell_type": "code",
   "execution_count": 24,
   "id": "68e2e6e54b54989d",
   "metadata": {
    "ExecuteTime": {
     "end_time": "2024-11-20T09:16:32.112070Z",
     "start_time": "2024-11-20T09:16:32.104136Z"
    }
   },
   "outputs": [
    {
     "data": {
      "text/html": [
       "<div>\n",
       "<style scoped>\n",
       "    .dataframe tbody tr th:only-of-type {\n",
       "        vertical-align: middle;\n",
       "    }\n",
       "\n",
       "    .dataframe tbody tr th {\n",
       "        vertical-align: top;\n",
       "    }\n",
       "\n",
       "    .dataframe thead th {\n",
       "        text-align: right;\n",
       "    }\n",
       "</style>\n",
       "<table border=\"1\" class=\"dataframe\">\n",
       "  <thead>\n",
       "    <tr style=\"text-align: right;\">\n",
       "      <th></th>\n",
       "      <th>movie_id</th>\n",
       "      <th>title</th>\n",
       "      <th>overview</th>\n",
       "      <th>genres</th>\n",
       "      <th>keywords</th>\n",
       "      <th>cast</th>\n",
       "      <th>crew</th>\n",
       "    </tr>\n",
       "  </thead>\n",
       "  <tbody>\n",
       "    <tr>\n",
       "      <th>0</th>\n",
       "      <td>19995</td>\n",
       "      <td>Avatar</td>\n",
       "      <td>[In, the, 22nd, century,, a, paraplegic, Marin...</td>\n",
       "      <td>[Action, Adventure, Fantasy, Science Fiction]</td>\n",
       "      <td>[culture clash, future, space war, space colon...</td>\n",
       "      <td>[Sam Worthington, Zoe Saldana, Sigourney Weaver]</td>\n",
       "      <td>[James Cameron]</td>\n",
       "    </tr>\n",
       "  </tbody>\n",
       "</table>\n",
       "</div>"
      ],
      "text/plain": [
       "   movie_id   title                                           overview  \\\n",
       "0     19995  Avatar  [In, the, 22nd, century,, a, paraplegic, Marin...   \n",
       "\n",
       "                                          genres  \\\n",
       "0  [Action, Adventure, Fantasy, Science Fiction]   \n",
       "\n",
       "                                            keywords  \\\n",
       "0  [culture clash, future, space war, space colon...   \n",
       "\n",
       "                                               cast             crew  \n",
       "0  [Sam Worthington, Zoe Saldana, Sigourney Weaver]  [James Cameron]  "
      ]
     },
     "execution_count": 24,
     "metadata": {},
     "output_type": "execute_result"
    }
   ],
   "source": [
    "movies.head(1)"
   ]
  },
  {
   "cell_type": "code",
   "execution_count": 25,
   "id": "748528ca47e6e2b",
   "metadata": {
    "ExecuteTime": {
     "end_time": "2024-11-20T09:16:32.179047Z",
     "start_time": "2024-11-20T09:16:32.169817Z"
    }
   },
   "outputs": [],
   "source": [
    "# Replacing spaces in the elements of genres for each tuple.\n",
    "\n",
    "movies[\"genres\"] = movies[\"genres\"].apply(lambda x : [i.replace(\" \", \"\") for i in x])"
   ]
  },
  {
   "cell_type": "code",
   "execution_count": 26,
   "id": "b371e0b0cb95aa80",
   "metadata": {
    "ExecuteTime": {
     "end_time": "2024-11-20T09:16:32.262236Z",
     "start_time": "2024-11-20T09:16:32.234544Z"
    }
   },
   "outputs": [],
   "source": [
    "# Replacing spaces in the elements of keywords for each tuple.\n",
    "\n",
    "movies[\"keywords\"] = movies[\"keywords\"].apply(lambda x : [i.replace(\" \", \"\") for i in x])"
   ]
  },
  {
   "cell_type": "code",
   "execution_count": 27,
   "id": "c80404a1b14c506b",
   "metadata": {
    "ExecuteTime": {
     "end_time": "2024-11-20T09:16:32.337964Z",
     "start_time": "2024-11-20T09:16:32.331179Z"
    }
   },
   "outputs": [],
   "source": [
    "# Replacing spaces in the elements of cast for each tuple.\n",
    "\n",
    "movies[\"cast\"] = movies[\"cast\"].apply(lambda x : [i.replace(\" \", \"\") for i in x])"
   ]
  },
  {
   "cell_type": "code",
   "execution_count": 28,
   "id": "3206f72292efb30f",
   "metadata": {
    "ExecuteTime": {
     "end_time": "2024-11-20T09:16:32.368918Z",
     "start_time": "2024-11-20T09:16:32.363030Z"
    }
   },
   "outputs": [],
   "source": [
    "# Replacing spaces in the elements of crew for each tuple.\n",
    "\n",
    "movies[\"crew\"] = movies[\"crew\"].apply(lambda x : [i.replace(\" \", \"\") for i in x])"
   ]
  },
  {
   "cell_type": "code",
   "execution_count": 29,
   "id": "9d2c816953fe73dc",
   "metadata": {
    "ExecuteTime": {
     "end_time": "2024-11-20T09:16:32.428251Z",
     "start_time": "2024-11-20T09:16:32.391089Z"
    }
   },
   "outputs": [],
   "source": [
    "movies[\"tags\"] = movies[\"overview\"] + movies[\"genres\"] + movies[\"keywords\"] + movies[\"cast\"] + movies[\"crew\"]"
   ]
  },
  {
   "cell_type": "code",
   "execution_count": 30,
   "id": "e6b494102ee7446d",
   "metadata": {
    "ExecuteTime": {
     "end_time": "2024-11-20T09:16:32.435685Z",
     "start_time": "2024-11-20T09:16:32.432647Z"
    }
   },
   "outputs": [],
   "source": [
    "# Creating a new dataframe.\n",
    "\n",
    "df = movies[[\"movie_id\", \"title\", \"tags\"]]"
   ]
  },
  {
   "cell_type": "code",
   "execution_count": 31,
   "id": "ac5cf1fddad1f4a9",
   "metadata": {
    "ExecuteTime": {
     "end_time": "2024-11-20T09:16:32.453308Z",
     "start_time": "2024-11-20T09:16:32.448425Z"
    }
   },
   "outputs": [
    {
     "data": {
      "text/html": [
       "<div>\n",
       "<style scoped>\n",
       "    .dataframe tbody tr th:only-of-type {\n",
       "        vertical-align: middle;\n",
       "    }\n",
       "\n",
       "    .dataframe tbody tr th {\n",
       "        vertical-align: top;\n",
       "    }\n",
       "\n",
       "    .dataframe thead th {\n",
       "        text-align: right;\n",
       "    }\n",
       "</style>\n",
       "<table border=\"1\" class=\"dataframe\">\n",
       "  <thead>\n",
       "    <tr style=\"text-align: right;\">\n",
       "      <th></th>\n",
       "      <th>movie_id</th>\n",
       "      <th>title</th>\n",
       "      <th>tags</th>\n",
       "    </tr>\n",
       "  </thead>\n",
       "  <tbody>\n",
       "    <tr>\n",
       "      <th>0</th>\n",
       "      <td>19995</td>\n",
       "      <td>Avatar</td>\n",
       "      <td>[In, the, 22nd, century,, a, paraplegic, Marin...</td>\n",
       "    </tr>\n",
       "  </tbody>\n",
       "</table>\n",
       "</div>"
      ],
      "text/plain": [
       "   movie_id   title                                               tags\n",
       "0     19995  Avatar  [In, the, 22nd, century,, a, paraplegic, Marin..."
      ]
     },
     "execution_count": 31,
     "metadata": {},
     "output_type": "execute_result"
    }
   ],
   "source": [
    "df.head(1)"
   ]
  },
  {
   "cell_type": "code",
   "execution_count": 32,
   "id": "f6ef9c5d5c984db6",
   "metadata": {
    "ExecuteTime": {
     "end_time": "2024-11-20T09:16:32.502403Z",
     "start_time": "2024-11-20T09:16:32.493119Z"
    }
   },
   "outputs": [],
   "source": [
    "# Converting elements of tags into a string.\n",
    "\n",
    "df[\"tags\"] = df[\"tags\"].apply(lambda x : \" \".join(x))"
   ]
  },
  {
   "cell_type": "code",
   "execution_count": 33,
   "id": "f57382617742eaad",
   "metadata": {
    "ExecuteTime": {
     "end_time": "2024-11-20T09:16:32.568145Z",
     "start_time": "2024-11-20T09:16:32.563110Z"
    }
   },
   "outputs": [
    {
     "data": {
      "text/html": [
       "<div>\n",
       "<style scoped>\n",
       "    .dataframe tbody tr th:only-of-type {\n",
       "        vertical-align: middle;\n",
       "    }\n",
       "\n",
       "    .dataframe tbody tr th {\n",
       "        vertical-align: top;\n",
       "    }\n",
       "\n",
       "    .dataframe thead th {\n",
       "        text-align: right;\n",
       "    }\n",
       "</style>\n",
       "<table border=\"1\" class=\"dataframe\">\n",
       "  <thead>\n",
       "    <tr style=\"text-align: right;\">\n",
       "      <th></th>\n",
       "      <th>movie_id</th>\n",
       "      <th>title</th>\n",
       "      <th>tags</th>\n",
       "    </tr>\n",
       "  </thead>\n",
       "  <tbody>\n",
       "    <tr>\n",
       "      <th>0</th>\n",
       "      <td>19995</td>\n",
       "      <td>Avatar</td>\n",
       "      <td>In the 22nd century, a paraplegic Marine is di...</td>\n",
       "    </tr>\n",
       "  </tbody>\n",
       "</table>\n",
       "</div>"
      ],
      "text/plain": [
       "   movie_id   title                                               tags\n",
       "0     19995  Avatar  In the 22nd century, a paraplegic Marine is di..."
      ]
     },
     "execution_count": 33,
     "metadata": {},
     "output_type": "execute_result"
    }
   ],
   "source": [
    "df.head(1)"
   ]
  },
  {
   "cell_type": "code",
   "execution_count": 34,
   "id": "46ffeca077f92950",
   "metadata": {
    "ExecuteTime": {
     "end_time": "2024-11-20T09:16:32.630182Z",
     "start_time": "2024-11-20T09:16:32.623437Z"
    }
   },
   "outputs": [],
   "source": [
    "# Converting the string into lower case.\n",
    "\n",
    "df[\"tags\"] = df[\"tags\"].apply(lambda x : x.lower())"
   ]
  },
  {
   "cell_type": "code",
   "execution_count": 35,
   "id": "f57246dbcc2d0263",
   "metadata": {
    "ExecuteTime": {
     "end_time": "2024-11-20T09:16:32.702283Z",
     "start_time": "2024-11-20T09:16:32.695335Z"
    }
   },
   "outputs": [
    {
     "data": {
      "text/html": [
       "<div>\n",
       "<style scoped>\n",
       "    .dataframe tbody tr th:only-of-type {\n",
       "        vertical-align: middle;\n",
       "    }\n",
       "\n",
       "    .dataframe tbody tr th {\n",
       "        vertical-align: top;\n",
       "    }\n",
       "\n",
       "    .dataframe thead th {\n",
       "        text-align: right;\n",
       "    }\n",
       "</style>\n",
       "<table border=\"1\" class=\"dataframe\">\n",
       "  <thead>\n",
       "    <tr style=\"text-align: right;\">\n",
       "      <th></th>\n",
       "      <th>movie_id</th>\n",
       "      <th>title</th>\n",
       "      <th>tags</th>\n",
       "    </tr>\n",
       "  </thead>\n",
       "  <tbody>\n",
       "    <tr>\n",
       "      <th>0</th>\n",
       "      <td>19995</td>\n",
       "      <td>Avatar</td>\n",
       "      <td>in the 22nd century, a paraplegic marine is di...</td>\n",
       "    </tr>\n",
       "  </tbody>\n",
       "</table>\n",
       "</div>"
      ],
      "text/plain": [
       "   movie_id   title                                               tags\n",
       "0     19995  Avatar  in the 22nd century, a paraplegic marine is di..."
      ]
     },
     "execution_count": 35,
     "metadata": {},
     "output_type": "execute_result"
    }
   ],
   "source": [
    "df.head(1)"
   ]
  },
  {
   "cell_type": "code",
   "execution_count": 36,
   "id": "b15fb1c4da13eb69",
   "metadata": {
    "ExecuteTime": {
     "end_time": "2024-11-20T09:16:32.753783Z",
     "start_time": "2024-11-20T09:16:32.751578Z"
    }
   },
   "outputs": [],
   "source": [
    "# Choosing top 5000 most frequently words amongst all the tags.\n",
    "\n",
    "cv = CountVectorizer(max_features = 5000, stop_words = \"english\")"
   ]
  },
  {
   "cell_type": "code",
   "execution_count": 37,
   "id": "ae933ecf70742ba1",
   "metadata": {
    "ExecuteTime": {
     "end_time": "2024-11-20T09:16:33.118199Z",
     "start_time": "2024-11-20T09:16:32.791649Z"
    }
   },
   "outputs": [],
   "source": [
    "# Transforming every movie in the form of a vector.\n",
    "\n",
    "vectors = cv.fit_transform(df[\"tags\"]).toarray()"
   ]
  },
  {
   "cell_type": "code",
   "execution_count": 38,
   "id": "3a7d2d070450caae",
   "metadata": {
    "ExecuteTime": {
     "end_time": "2024-11-20T09:16:33.146908Z",
     "start_time": "2024-11-20T09:16:33.139553Z"
    }
   },
   "outputs": [],
   "source": [
    "ps = PorterStemmer()"
   ]
  },
  {
   "cell_type": "code",
   "execution_count": 39,
   "id": "729c89f2a224f98",
   "metadata": {
    "ExecuteTime": {
     "end_time": "2024-11-20T09:16:33.187197Z",
     "start_time": "2024-11-20T09:16:33.180303Z"
    }
   },
   "outputs": [],
   "source": [
    "# Stemming the words like loving or loved into love etc.\n",
    "\n",
    "def stem(text):\n",
    "    y = []\n",
    "\n",
    "    for i in text.split():\n",
    "        y.append(ps.stem(i))\n",
    "\n",
    "    return \" \".join(y)"
   ]
  },
  {
   "cell_type": "code",
   "execution_count": 40,
   "id": "be19af14b1fdd88d",
   "metadata": {
    "ExecuteTime": {
     "end_time": "2024-11-20T09:16:36.450004Z",
     "start_time": "2024-11-20T09:16:33.204682Z"
    }
   },
   "outputs": [],
   "source": [
    "df[\"tags\"] = df[\"tags\"].apply(stem)"
   ]
  },
  {
   "cell_type": "code",
   "execution_count": 41,
   "id": "c1dbf85ef53aa8ff",
   "metadata": {
    "ExecuteTime": {
     "end_time": "2024-11-20T09:16:38.946029Z",
     "start_time": "2024-11-20T09:16:36.493707Z"
    }
   },
   "outputs": [],
   "source": [
    "# Similarities between the vectors of movies i.e greater the similarity more will be the chances of it getting recommended.\n",
    "\n",
    "similarity = cosine_similarity(vectors)"
   ]
  },
  {
   "cell_type": "code",
   "execution_count": 42,
   "id": "53eae57bcf2980b9",
   "metadata": {
    "ExecuteTime": {
     "end_time": "2024-11-20T09:16:39.005625Z",
     "start_time": "2024-11-20T09:16:38.992663Z"
    }
   },
   "outputs": [],
   "source": [
    "movie_id_to_vote_average = dict(zip(credits[\"movie_id\"], credits[\"vote_average\"]))\n",
    "# **This creates a dictionary for quick lookup of vote_average using movie_id.**"
   ]
  },
  {
   "cell_type": "code",
   "execution_count": 43,
   "id": "4b05ad4b1e75ee42",
   "metadata": {
    "ExecuteTime": {
     "end_time": "2024-11-20T09:16:39.073109Z",
     "start_time": "2024-11-20T09:16:39.030197Z"
    }
   },
   "outputs": [
    {
     "name": "stdout",
     "output_type": "stream",
     "text": [
      "   movie_id                                     title  \\\n",
      "0     19995                                    Avatar   \n",
      "1       285  Pirates of the Caribbean: At World's End   \n",
      "2    206647                                   Spectre   \n",
      "3     49026                     The Dark Knight Rises   \n",
      "4     49529                               John Carter   \n",
      "\n",
      "                                                tags  vote_average  \n",
      "0  [In, the, 22nd, century,, a, paraplegic, Marin...           7.2  \n",
      "1  [Captain, Barbossa,, long, believed, to, be, d...           6.9  \n",
      "2  [A, cryptic, message, from, Bond’s, past, send...           6.3  \n",
      "3  [Following, the, death, of, District, Attorney...           7.6  \n",
      "4  [John, Carter, is, a, war-weary,, former, mili...           6.1  \n"
     ]
    }
   ],
   "source": [
    "# Create a new DataFrame that includes movie_id, title, and tags\n",
    "df_with_ids = movies[[\"movie_id\", \"title\", \"tags\"]].copy()\n",
    "\n",
    "# Ensure movie_id is integrated cleanly into this new DataFrame\n",
    "df_with_ids = pd.merge(df_with_ids, credits[[\"movie_id\", \"vote_average\"]], on=\"movie_id\", how=\"left\")\n",
    "# **This integrates `vote_average` from `credits` into the new DataFrame.**\n",
    "\n",
    "# Check the structure of the new DataFrame\n",
    "print(df_with_ids.head())"
   ]
  },
  {
   "cell_type": "markdown",
   "id": "84979e234e45b198",
   "metadata": {},
   "source": [
    "RECCOMENDATION"
   ]
  },
  {
   "cell_type": "code",
   "execution_count": 44,
   "id": "b50c60d92f1d2d8c",
   "metadata": {
    "ExecuteTime": {
     "end_time": "2024-11-20T09:16:39.131348Z",
     "start_time": "2024-11-20T09:16:39.124044Z"
    }
   },
   "outputs": [],
   "source": [
    "def recommend(movie):\n",
    "    # Get the index of the given movie from the dataframe `df`\n",
    "    movie_index = df[df[\"title\"] == movie].index[0]\n",
    "    \n",
    "    # Get the similarity scores for the movie with all other movies\n",
    "    distances = similarity[movie_index]\n",
    "\n",
    "    # Sort the movies based on their similarity score (greater similarity = higher rank)\n",
    "    # Exclude the first one (the movie itself) by starting from index 1\n",
    "    movies_list = sorted(list(enumerate(distances)), reverse=True, key=lambda x: x[1])[1:6]\n",
    "\n",
    "    # Collect similar movie titles and their respective vote averages\n",
    "    similar_movies = []\n",
    "    vote_averages = []\n",
    "    similarity_scores = []\n",
    "\n",
    "    for i in movies_list:\n",
    "        movie_title = df.iloc[i[0]][\"title\"]  # Access movie title\n",
    "        movie_id = df.iloc[i[0]][\"movie_id\"]  # Access movie_id to get the vote_average from the credits DataFrame\n",
    "        similarity_score = i[1]\n",
    "        \n",
    "        # Retrieve the vote_average from the movie_id_to_vote_average dictionary\n",
    "        movie_vote_average = movie_id_to_vote_average.get(movie_id, 0)  # Default to 0 if not found\n",
    "        \n",
    "        similar_movies.append(movie_title)\n",
    "        vote_averages.append(movie_vote_average)\n",
    "        similarity_scores.append(similarity_score)\n",
    "    \n",
    "    # Compute the weighted vote average (CNN - Cosine-Weighted Average)\n",
    "    weighted_vote_average = np.average(vote_averages, weights=similarity_scores)\n",
    "    \n",
    "    # Print the top 5 recommended movies and the new weighted vote average\n",
    "    print(f\"Top 5 recommended movies for '{movie}':\")\n",
    "    for title in similar_movies:\n",
    "        print(title)\n",
    "    \n",
    "    print(f\"\\nNew Weighted Vote Average for '{movie}': {weighted_vote_average:.2f}\")"
   ]
  },
  {
   "cell_type": "code",
   "execution_count": 45,
   "id": "4e018208c3d479ca",
   "metadata": {
    "ExecuteTime": {
     "end_time": "2024-11-20T09:16:39.189798Z",
     "start_time": "2024-11-20T09:16:39.180372Z"
    }
   },
   "outputs": [
    {
     "name": "stdout",
     "output_type": "stream",
     "text": [
      "Top 5 recommended movies for 'Inception':\n",
      "Duplex\n",
      "The Helix... Loaded\n",
      "Star Trek II: The Wrath of Khan\n",
      "Timecop\n",
      "Chicago Overcoat\n",
      "\n",
      "New Weighted Vote Average for 'Inception': 5.92\n"
     ]
    }
   ],
   "source": [
    "recommend(\"Inception\")"
   ]
  },
  {
   "cell_type": "code",
   "execution_count": 49,
   "id": "f8bbbd8fc35e3fc2",
   "metadata": {
    "ExecuteTime": {
     "end_time": "2024-11-20T09:16:39.303665Z",
     "start_time": "2024-11-20T09:16:39.293068Z"
    }
   },
   "outputs": [],
   "source": [
    "pickle.dump(df, open(\"/Users/anjalisingh/Documents/ML LAB/Movie Recommender/movies.pkl\", \"wb\"))"
   ]
  },
  {
   "cell_type": "code",
   "execution_count": 50,
   "id": "aa4749ddb4a00c1d",
   "metadata": {
    "ExecuteTime": {
     "end_time": "2024-11-20T09:16:39.537811Z",
     "start_time": "2024-11-20T09:16:39.325374Z"
    }
   },
   "outputs": [],
   "source": [
    "pickle.dump(similarity, open(\"/Users/anjalisingh/Documents/ML LAB/Movie Recommender/similarity.pkl\", \"wb\"))"
   ]
  },
  {
   "cell_type": "code",
   "execution_count": 52,
   "id": "e50772c07772845a",
   "metadata": {
    "ExecuteTime": {
     "end_time": "2024-11-20T09:16:39.553892Z",
     "start_time": "2024-11-20T09:16:39.550160Z"
    }
   },
   "outputs": [
    {
     "name": "stdout",
     "output_type": "stream",
     "text": [
      "credits.pkl has been created and saved.\n"
     ]
    }
   ],
   "source": [
    "pickle.dump(credits, open(\"/Users/anjalisingh/Documents/ML LAB/Movie Recommender/credits.pkl\", \"wb\"))\n",
    "\n",
    "print(\"credits.pkl has been created and saved.\")"
   ]
  }
 ],
 "metadata": {
  "kernelspec": {
   "display_name": "Python 3",
   "language": "python",
   "name": "python3"
  },
  "language_info": {
   "codemirror_mode": {
    "name": "ipython",
    "version": 3
   },
   "file_extension": ".py",
   "mimetype": "text/x-python",
   "name": "python",
   "nbconvert_exporter": "python",
   "pygments_lexer": "ipython3",
   "version": "3.12.0"
  }
 },
 "nbformat": 4,
 "nbformat_minor": 5
}
